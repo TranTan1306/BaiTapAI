{
  "nbformat": 4,
  "nbformat_minor": 0,
  "metadata": {
    "colab": {
      "provenance": [],
      "mount_file_id": "1jGSxZjJvhFWU2PMCvtmrOsTYgbcWUT70",
      "authorship_tag": "ABX9TyNm/YPz7iaUYbsACp2pL0iZ",
      "include_colab_link": true
    },
    "kernelspec": {
      "name": "python3",
      "display_name": "Python 3"
    },
    "language_info": {
      "name": "python"
    },
    "gpuClass": "standard"
  },
  "cells": [
    {
      "cell_type": "markdown",
      "metadata": {
        "id": "view-in-github",
        "colab_type": "text"
      },
      "source": [
        "<a href=\"https://colab.research.google.com/github/TranTan1306/BaiTapAI/blob/main/Banknotes.ipynb\" target=\"_parent\"><img src=\"https://colab.research.google.com/assets/colab-badge.svg\" alt=\"Open In Colab\"/></a>"
      ]
    },
    {
      "cell_type": "code",
      "execution_count": null,
      "metadata": {
        "id": "mPAGowpkPf_4"
      },
      "outputs": [],
      "source": [
        "folder = '/content/drive/MyDrive/BT AI/banknote/'\n",
        "import numpy as np\n",
        "import matplotlib.pyplot as plt\n",
        "from matplotlib.image import imread\n",
        "from os import listdir\n",
        "from os.path import isdir\n",
        "from numpy import asarray\n",
        "from numpy import save\n",
        "from keras.utils import load_img, img_to_array\n",
        "from keras.models import Sequential\n",
        "from keras.layers import Dense, Dropout, Flatten, Conv2D, MaxPooling2D, Normalization, LeakyReLU\n",
        "from keras.losses import categorical_crossentropy\n",
        "from keras.optimizers import Adam\n",
        "from keras.utils import to_categorical"
      ]
    },
    {
      "cell_type": "code",
      "source": [
        "photos, labels = list(), list()\n",
        "for file in listdir(folder):\n",
        "  output = 0\n",
        "  if file.startswith('5k '):\n",
        "    output = 1\n",
        "  if file.startswith('10k '):\n",
        "    output = 2\n",
        "  if file.startswith('20k '):\n",
        "    output = 3\n",
        "  if file.startswith('50k '):\n",
        "    output = 4\n",
        "  if file.startswith('100k '):\n",
        "    output = 5\n",
        "  if file.startswith('500k '):\n",
        "    output = 6\n",
        "  img =load_img(folder+file,target_size=(30,40))\n",
        "  photo = img_to_array(img)\n",
        "  photos.append(photo)\n",
        "  labels.append(output)\n",
        "photos = asarray(photos)\n",
        "labels = asarray(labels)\n",
        "print(photos.shape,labels.shape)\n",
        "save('note_photos.npy',photos)\n",
        "save('note_labels.npy',labels)"
      ],
      "metadata": {
        "colab": {
          "base_uri": "https://localhost:8080/"
        },
        "id": "cS2ti055Pu8w",
        "outputId": "a9d25fd0-0ae4-46f9-efe3-eb7a279c04a5"
      },
      "execution_count": null,
      "outputs": [
        {
          "output_type": "stream",
          "name": "stdout",
          "text": [
            "(360, 30, 40, 3) (360,)\n"
          ]
        }
      ]
    },
    {
      "cell_type": "code",
      "source": [
        "x_train = np.load('/content/note_photos.npy')\n",
        "y_train = np.load('/content/note_labels.npy')"
      ],
      "metadata": {
        "id": "e9duTfbZQHpG"
      },
      "execution_count": null,
      "outputs": []
    },
    {
      "cell_type": "code",
      "source": [
        "x_train = x_train.astype('float32')/255\n",
        "y_train = to_categorical(y_train,10)"
      ],
      "metadata": {
        "id": "vphBLwlvQYDL"
      },
      "execution_count": null,
      "outputs": []
    },
    {
      "cell_type": "code",
      "source": [
        "#32 lan tich chap\n",
        "model = Sequential()\n",
        "model.add(Conv2D(32,kernel_size = (3,3),activation = 'relu',input_shape=(30,40,3),padding='Same'))\n",
        "model.add(MaxPooling2D((2,2),padding='same'))\n",
        "model.add(Dropout(0.25))\n",
        "\n",
        "#64 lan tich chap\n",
        "model.add(Conv2D(64,(3,3),activation ='relu',padding ='same'))\n",
        "model.add(MaxPooling2D((2,2),padding='same'))\n",
        "model.add(Dropout(0.25))\n",
        "\n",
        "#128 lan tich chap\n",
        "model.add(Conv2D(128,(3,3),activation ='relu',padding ='same'))\n",
        "model.add(MaxPooling2D((2,2),padding='same'))\n",
        "model.add(Dropout(0.25))\n",
        "\n",
        "model.add(Flatten())\n",
        "model.add(Dense(64,activation = 'relu'))\n",
        "model.add(Dropout(0.25))\n",
        "model.add(Dense(10,activation='softmax'))\n",
        "\n",
        "from keras.losses import categorical_crossentropy\n",
        "model.compile(loss = categorical_crossentropy,optimizer = Adam(),metrics=['accuracy'])\n",
        "train = model.fit(x_train,y_train,batch_size=32,epochs = 100,verbose = 1)"
      ],
      "metadata": {
        "colab": {
          "base_uri": "https://localhost:8080/"
        },
        "id": "v-fxoHDoQrZU",
        "outputId": "1c9c93a7-e73c-426c-83d0-0aa695e28af1"
      },
      "execution_count": null,
      "outputs": [
        {
          "output_type": "stream",
          "name": "stdout",
          "text": [
            "Epoch 1/100\n",
            "12/12 [==============================] - 1s 7ms/step - loss: 1.9583 - accuracy: 0.1972\n",
            "Epoch 2/100\n",
            "12/12 [==============================] - 0s 6ms/step - loss: 1.8472 - accuracy: 0.1917\n",
            "Epoch 3/100\n",
            "12/12 [==============================] - 0s 6ms/step - loss: 1.7802 - accuracy: 0.2250\n",
            "Epoch 4/100\n",
            "12/12 [==============================] - 0s 6ms/step - loss: 1.7378 - accuracy: 0.2472\n",
            "Epoch 5/100\n",
            "12/12 [==============================] - 0s 6ms/step - loss: 1.6591 - accuracy: 0.2806\n",
            "Epoch 6/100\n",
            "12/12 [==============================] - 0s 5ms/step - loss: 1.5911 - accuracy: 0.3278\n",
            "Epoch 7/100\n",
            "12/12 [==============================] - 0s 6ms/step - loss: 1.5259 - accuracy: 0.3222\n",
            "Epoch 8/100\n",
            "12/12 [==============================] - 0s 6ms/step - loss: 1.4772 - accuracy: 0.3583\n",
            "Epoch 9/100\n",
            "12/12 [==============================] - 0s 5ms/step - loss: 1.4512 - accuracy: 0.4000\n",
            "Epoch 10/100\n",
            "12/12 [==============================] - 0s 6ms/step - loss: 1.3068 - accuracy: 0.4361\n",
            "Epoch 11/100\n",
            "12/12 [==============================] - 0s 6ms/step - loss: 1.2086 - accuracy: 0.5139\n",
            "Epoch 12/100\n",
            "12/12 [==============================] - 0s 5ms/step - loss: 1.1273 - accuracy: 0.5500\n",
            "Epoch 13/100\n",
            "12/12 [==============================] - 0s 6ms/step - loss: 1.1082 - accuracy: 0.5556\n",
            "Epoch 14/100\n",
            "12/12 [==============================] - 0s 7ms/step - loss: 1.0733 - accuracy: 0.5917\n",
            "Epoch 15/100\n",
            "12/12 [==============================] - 0s 6ms/step - loss: 0.9045 - accuracy: 0.6278\n",
            "Epoch 16/100\n",
            "12/12 [==============================] - 0s 5ms/step - loss: 0.8639 - accuracy: 0.6500\n",
            "Epoch 17/100\n",
            "12/12 [==============================] - 0s 6ms/step - loss: 0.7723 - accuracy: 0.6972\n",
            "Epoch 18/100\n",
            "12/12 [==============================] - 0s 6ms/step - loss: 0.7569 - accuracy: 0.7278\n",
            "Epoch 19/100\n",
            "12/12 [==============================] - 0s 5ms/step - loss: 0.7250 - accuracy: 0.7333\n",
            "Epoch 20/100\n",
            "12/12 [==============================] - 0s 6ms/step - loss: 0.7438 - accuracy: 0.7222\n",
            "Epoch 21/100\n",
            "12/12 [==============================] - 0s 5ms/step - loss: 0.5879 - accuracy: 0.7778\n",
            "Epoch 22/100\n",
            "12/12 [==============================] - 0s 6ms/step - loss: 0.5927 - accuracy: 0.7639\n",
            "Epoch 23/100\n",
            "12/12 [==============================] - 0s 5ms/step - loss: 0.5030 - accuracy: 0.8194\n",
            "Epoch 24/100\n",
            "12/12 [==============================] - 0s 6ms/step - loss: 0.4333 - accuracy: 0.8556\n",
            "Epoch 25/100\n",
            "12/12 [==============================] - 0s 5ms/step - loss: 0.4663 - accuracy: 0.8472\n",
            "Epoch 26/100\n",
            "12/12 [==============================] - 0s 5ms/step - loss: 0.4053 - accuracy: 0.8528\n",
            "Epoch 27/100\n",
            "12/12 [==============================] - 0s 6ms/step - loss: 0.3872 - accuracy: 0.8639\n",
            "Epoch 28/100\n",
            "12/12 [==============================] - 0s 6ms/step - loss: 0.3226 - accuracy: 0.8944\n",
            "Epoch 29/100\n",
            "12/12 [==============================] - 0s 5ms/step - loss: 0.2906 - accuracy: 0.8861\n",
            "Epoch 30/100\n",
            "12/12 [==============================] - 0s 5ms/step - loss: 0.2773 - accuracy: 0.9167\n",
            "Epoch 31/100\n",
            "12/12 [==============================] - 0s 5ms/step - loss: 0.3158 - accuracy: 0.8972\n",
            "Epoch 32/100\n",
            "12/12 [==============================] - 0s 5ms/step - loss: 0.2626 - accuracy: 0.9028\n",
            "Epoch 33/100\n",
            "12/12 [==============================] - 0s 5ms/step - loss: 0.2931 - accuracy: 0.8972\n",
            "Epoch 34/100\n",
            "12/12 [==============================] - 0s 5ms/step - loss: 0.2569 - accuracy: 0.9139\n",
            "Epoch 35/100\n",
            "12/12 [==============================] - 0s 6ms/step - loss: 0.2375 - accuracy: 0.9250\n",
            "Epoch 36/100\n",
            "12/12 [==============================] - 0s 6ms/step - loss: 0.2386 - accuracy: 0.9111\n",
            "Epoch 37/100\n",
            "12/12 [==============================] - 0s 5ms/step - loss: 0.2208 - accuracy: 0.9278\n",
            "Epoch 38/100\n",
            "12/12 [==============================] - 0s 5ms/step - loss: 0.2902 - accuracy: 0.9056\n",
            "Epoch 39/100\n",
            "12/12 [==============================] - 0s 5ms/step - loss: 0.2635 - accuracy: 0.9111\n",
            "Epoch 40/100\n",
            "12/12 [==============================] - 0s 6ms/step - loss: 0.2529 - accuracy: 0.9167\n",
            "Epoch 41/100\n",
            "12/12 [==============================] - 0s 5ms/step - loss: 0.2328 - accuracy: 0.9139\n",
            "Epoch 42/100\n",
            "12/12 [==============================] - 0s 6ms/step - loss: 0.1642 - accuracy: 0.9500\n",
            "Epoch 43/100\n",
            "12/12 [==============================] - 0s 5ms/step - loss: 0.1776 - accuracy: 0.9250\n",
            "Epoch 44/100\n",
            "12/12 [==============================] - 0s 6ms/step - loss: 0.1501 - accuracy: 0.9583\n",
            "Epoch 45/100\n",
            "12/12 [==============================] - 0s 6ms/step - loss: 0.1641 - accuracy: 0.9306\n",
            "Epoch 46/100\n",
            "12/12 [==============================] - 0s 6ms/step - loss: 0.1253 - accuracy: 0.9667\n",
            "Epoch 47/100\n",
            "12/12 [==============================] - 0s 5ms/step - loss: 0.1577 - accuracy: 0.9250\n",
            "Epoch 48/100\n",
            "12/12 [==============================] - 0s 6ms/step - loss: 0.1532 - accuracy: 0.9417\n",
            "Epoch 49/100\n",
            "12/12 [==============================] - 0s 5ms/step - loss: 0.1806 - accuracy: 0.9250\n",
            "Epoch 50/100\n",
            "12/12 [==============================] - 0s 6ms/step - loss: 0.1718 - accuracy: 0.9417\n",
            "Epoch 51/100\n",
            "12/12 [==============================] - 0s 6ms/step - loss: 0.1491 - accuracy: 0.9472\n",
            "Epoch 52/100\n",
            "12/12 [==============================] - 0s 5ms/step - loss: 0.1207 - accuracy: 0.9667\n",
            "Epoch 53/100\n",
            "12/12 [==============================] - 0s 5ms/step - loss: 0.0867 - accuracy: 0.9722\n",
            "Epoch 54/100\n",
            "12/12 [==============================] - 0s 5ms/step - loss: 0.1613 - accuracy: 0.9417\n",
            "Epoch 55/100\n",
            "12/12 [==============================] - 0s 6ms/step - loss: 0.1528 - accuracy: 0.9444\n",
            "Epoch 56/100\n",
            "12/12 [==============================] - 0s 5ms/step - loss: 0.1124 - accuracy: 0.9611\n",
            "Epoch 57/100\n",
            "12/12 [==============================] - 0s 6ms/step - loss: 0.0742 - accuracy: 0.9778\n",
            "Epoch 58/100\n",
            "12/12 [==============================] - 0s 5ms/step - loss: 0.0875 - accuracy: 0.9722\n",
            "Epoch 59/100\n",
            "12/12 [==============================] - 0s 5ms/step - loss: 0.0881 - accuracy: 0.9667\n",
            "Epoch 60/100\n",
            "12/12 [==============================] - 0s 5ms/step - loss: 0.0626 - accuracy: 0.9833\n",
            "Epoch 61/100\n",
            "12/12 [==============================] - 0s 5ms/step - loss: 0.0875 - accuracy: 0.9778\n",
            "Epoch 62/100\n",
            "12/12 [==============================] - 0s 6ms/step - loss: 0.1068 - accuracy: 0.9611\n",
            "Epoch 63/100\n",
            "12/12 [==============================] - 0s 5ms/step - loss: 0.1241 - accuracy: 0.9472\n",
            "Epoch 64/100\n",
            "12/12 [==============================] - 0s 5ms/step - loss: 0.1599 - accuracy: 0.9361\n",
            "Epoch 65/100\n",
            "12/12 [==============================] - 0s 5ms/step - loss: 0.1758 - accuracy: 0.9472\n",
            "Epoch 66/100\n",
            "12/12 [==============================] - 0s 6ms/step - loss: 0.1446 - accuracy: 0.9528\n",
            "Epoch 67/100\n",
            "12/12 [==============================] - 0s 6ms/step - loss: 0.1038 - accuracy: 0.9639\n",
            "Epoch 68/100\n",
            "12/12 [==============================] - 0s 5ms/step - loss: 0.0780 - accuracy: 0.9750\n",
            "Epoch 69/100\n",
            "12/12 [==============================] - 0s 6ms/step - loss: 0.2163 - accuracy: 0.9083\n",
            "Epoch 70/100\n",
            "12/12 [==============================] - 0s 5ms/step - loss: 0.1776 - accuracy: 0.9278\n",
            "Epoch 71/100\n",
            "12/12 [==============================] - 0s 6ms/step - loss: 0.1037 - accuracy: 0.9639\n",
            "Epoch 72/100\n",
            "12/12 [==============================] - 0s 5ms/step - loss: 0.0767 - accuracy: 0.9694\n",
            "Epoch 73/100\n",
            "12/12 [==============================] - 0s 5ms/step - loss: 0.1019 - accuracy: 0.9611\n",
            "Epoch 74/100\n",
            "12/12 [==============================] - 0s 5ms/step - loss: 0.0600 - accuracy: 0.9806\n",
            "Epoch 75/100\n",
            "12/12 [==============================] - 0s 5ms/step - loss: 0.0778 - accuracy: 0.9778\n",
            "Epoch 76/100\n",
            "12/12 [==============================] - 0s 6ms/step - loss: 0.0710 - accuracy: 0.9694\n",
            "Epoch 77/100\n",
            "12/12 [==============================] - 0s 5ms/step - loss: 0.0784 - accuracy: 0.9694\n",
            "Epoch 78/100\n",
            "12/12 [==============================] - 0s 5ms/step - loss: 0.0683 - accuracy: 0.9833\n",
            "Epoch 79/100\n",
            "12/12 [==============================] - 0s 5ms/step - loss: 0.0740 - accuracy: 0.9750\n",
            "Epoch 80/100\n",
            "12/12 [==============================] - 0s 5ms/step - loss: 0.1152 - accuracy: 0.9528\n",
            "Epoch 81/100\n",
            "12/12 [==============================] - 0s 6ms/step - loss: 0.1613 - accuracy: 0.9361\n",
            "Epoch 82/100\n",
            "12/12 [==============================] - 0s 5ms/step - loss: 0.0924 - accuracy: 0.9778\n",
            "Epoch 83/100\n",
            "12/12 [==============================] - 0s 6ms/step - loss: 0.0520 - accuracy: 0.9889\n",
            "Epoch 84/100\n",
            "12/12 [==============================] - 0s 6ms/step - loss: 0.0606 - accuracy: 0.9861\n",
            "Epoch 85/100\n",
            "12/12 [==============================] - 0s 5ms/step - loss: 0.0498 - accuracy: 0.9806\n",
            "Epoch 86/100\n",
            "12/12 [==============================] - 0s 5ms/step - loss: 0.0302 - accuracy: 0.9944\n",
            "Epoch 87/100\n",
            "12/12 [==============================] - 0s 5ms/step - loss: 0.0531 - accuracy: 0.9833\n",
            "Epoch 88/100\n",
            "12/12 [==============================] - 0s 5ms/step - loss: 0.0534 - accuracy: 0.9750\n",
            "Epoch 89/100\n",
            "12/12 [==============================] - 0s 6ms/step - loss: 0.0872 - accuracy: 0.9639\n",
            "Epoch 90/100\n",
            "12/12 [==============================] - 0s 6ms/step - loss: 0.0515 - accuracy: 0.9778\n",
            "Epoch 91/100\n",
            "12/12 [==============================] - 0s 6ms/step - loss: 0.0596 - accuracy: 0.9778\n",
            "Epoch 92/100\n",
            "12/12 [==============================] - 0s 5ms/step - loss: 0.0660 - accuracy: 0.9778\n",
            "Epoch 93/100\n",
            "12/12 [==============================] - 0s 5ms/step - loss: 0.0566 - accuracy: 0.9750\n",
            "Epoch 94/100\n",
            "12/12 [==============================] - 0s 5ms/step - loss: 0.0425 - accuracy: 0.9917\n",
            "Epoch 95/100\n",
            "12/12 [==============================] - 0s 6ms/step - loss: 0.0868 - accuracy: 0.9694\n",
            "Epoch 96/100\n",
            "12/12 [==============================] - 0s 6ms/step - loss: 0.0913 - accuracy: 0.9722\n",
            "Epoch 97/100\n",
            "12/12 [==============================] - 0s 6ms/step - loss: 0.1299 - accuracy: 0.9528\n",
            "Epoch 98/100\n",
            "12/12 [==============================] - 0s 5ms/step - loss: 0.1443 - accuracy: 0.9472\n",
            "Epoch 99/100\n",
            "12/12 [==============================] - 0s 5ms/step - loss: 0.0914 - accuracy: 0.9667\n",
            "Epoch 100/100\n",
            "12/12 [==============================] - 0s 5ms/step - loss: 0.0887 - accuracy: 0.9750\n"
          ]
        }
      ]
    },
    {
      "cell_type": "code",
      "source": [
        "pred = {1: '5k',2:'10k', 3:'20k', 4:'50k', 5:'100k', 6:'500k' }\n",
        "img = load_img(\"/content/drive/MyDrive/500k_test.jpg\",target_size=(30,40))\n",
        "plt.imshow(img)\n",
        "img = img_to_array(img)\n",
        "img=img.reshape(1,30,40,3)\n",
        "img = img.astype('float32')\n",
        "img =img/255\n",
        "result  = np.argmax(model.predict(img),axis=1)\n",
        "pred[result[0]]"
      ],
      "metadata": {
        "colab": {
          "base_uri": "https://localhost:8080/",
          "height": 466
        },
        "id": "AwNLYsJQRM1P",
        "outputId": "ca7c2fdf-2e5b-46c5-84a2-269c17553f43"
      },
      "execution_count": null,
      "outputs": [
        {
          "output_type": "stream",
          "name": "stdout",
          "text": [
            "1/1 [==============================] - 0s 29ms/step\n"
          ]
        },
        {
          "output_type": "execute_result",
          "data": {
            "text/plain": [
              "'500k'"
            ],
            "application/vnd.google.colaboratory.intrinsic+json": {
              "type": "string"
            }
          },
          "metadata": {},
          "execution_count": 9
        },
        {
          "output_type": "display_data",
          "data": {
            "text/plain": [
              "<Figure size 640x480 with 1 Axes>"
            ],
            "image/png": "[encoded data removed]"
          },
          "metadata": {}
        }
      ]
    },
    {
      "cell_type": "code",
      "source": [
        "model.save('/content/drive/MyDrive/Train model/banknote_model.h5')"
      ],
      "metadata": {
        "id": "01eOHWlXTEBf"
      },
      "execution_count": null,
      "outputs": []
    },
    {
      "cell_type": "code",
      "source": [],
      "metadata": {
        "id": "6sQ5OGtdTStG"
      },
      "execution_count": null,
      "outputs": []
    }
  ]
}
{
  "nbformat": 4,
  "nbformat_minor": 0,
  "metadata": {
    "colab": {
      "provenance": [],
      "mount_file_id": "1Wa5851KMgAEB7COSd7BSL7NvlOKJ-9DV",
      "authorship_tag": "ABX9TyNWsSIpRfESobhxOGVNj8Kh",
      "include_colab_link": true
    },
    "kernelspec": {
      "name": "python3",
      "display_name": "Python 3"
    },
    "language_info": {
      "name": "python"
    },
    "accelerator": "GPU",
    "gpuClass": "standard"
  },
  "cells": [
    {
      "cell_type": "markdown",
      "metadata": {
        "id": "view-in-github",
        "colab_type": "text"
      },
      "source": [
        "<a href=\"https://colab.research.google.com/github/TranTan1306/BaiTapAI/blob/main/W10_14_4_23(Cifar10_CNN).ipynb\" target=\"_parent\"><img src=\"https://colab.research.google.com/assets/colab-badge.svg\" alt=\"Open In Colab\"/></a>"
      ]
    },
    {
      "cell_type": "code",
      "execution_count": 4,
      "metadata": {
        "colab": {
          "base_uri": "https://localhost:8080/"
        },
        "id": "HifP5B0gJqg_",
        "outputId": "a5249d8e-380b-499d-dc53-d7f0abb00df2"
      },
      "outputs": [
        {
          "output_type": "stream",
          "name": "stdout",
          "text": [
            "x_train.shape: (50000, 32, 32, 3)\n",
            "x_test.shape: (10000, 32, 32, 3)\n"
          ]
        }
      ],
      "source": [
        "# Load Cifar10\n",
        "from keras.datasets import cifar10\n",
        "(x_train, y_train),(x_test, y_test) = cifar10.load_data()\n",
        "\n",
        "print('x_train.shape:', x_train.shape)\n",
        "print('x_test.shape:', x_test.shape)\n",
        "\n",
        "x_train = x_train.astype('float32')/255\n",
        "x_test = x_test.astype('float32')/255\n",
        "\n",
        "# One-hot encoding\n",
        "from keras.utils import to_categorical\n",
        "y_train = to_categorical(y_train, 10)\n",
        "y_test = to_categorical(y_test, 10)"
      ]
    },
    {
      "cell_type": "code",
      "source": [
        "from keras.models import Sequential\n",
        "from keras.layers import Dense, Dropout, Flatten, Conv2D, MaxPooling2D, Normalization, LeakyReLU\n",
        "from keras.optimizers import Adam"
      ],
      "metadata": {
        "id": "TQJJzG2zLNbm"
      },
      "execution_count": 2,
      "outputs": []
    },
    {
      "cell_type": "code",
      "source": [
        "# Tích chập 32 lần\n",
        "model = Sequential()\n",
        "model.add(Conv2D(32, kernel_size=(3,3), activation='linear', input_shape=(32,32,3,), padding='same'))\n",
        "model.add(LeakyReLU(alpha=0.1))\n",
        "model.add(MaxPooling2D((2,2), padding='same'))\n",
        "model.add(Dropout(0.25))\n",
        "\n",
        "# Tích chập 64 lần\n",
        "model.add(Conv2D(64, kernel_size=(3,3), activation='linear', padding='same'))\n",
        "model.add(LeakyReLU(alpha=0.1))\n",
        "model.add(MaxPooling2D((2,2), padding='same'))\n",
        "model.add(Dropout(0.25))\n",
        "\n",
        "# ANN\n",
        "model.add(Flatten())\n",
        "model.add(Dense(512, activation='linear'))\n",
        "model.add(LeakyReLU(alpha=0.1))\n",
        "model.add(Dense(10, activation='softmax'))\n",
        "\n",
        "from keras.losses import categorical_crossentropy\n",
        "model.compile(loss=categorical_crossentropy, optimizer=Adam(), metrics=['accuracy'])\n",
        "model.summary()\n",
        "train = model.fit(x_train, y_train, batch_size=64, epochs=20, verbose=1)"
      ],
      "metadata": {
        "colab": {
          "base_uri": "https://localhost:8080/"
        },
        "id": "dkG0y14jMlqG",
        "outputId": "71fba53f-84f7-40d9-9ac9-6fdaea27716b"
      },
      "execution_count": 5,
      "outputs": [
        {
          "output_type": "stream",
          "name": "stdout",
          "text": [
            "Model: \"sequential_1\"\n",
            "_________________________________________________________________\n",
            " Layer (type)                Output Shape              Param #   \n",
            "=================================================================\n",
            " conv2d_1 (Conv2D)           (None, 32, 32, 32)        896       \n",
            "                                                                 \n",
            " leaky_re_lu (LeakyReLU)     (None, 32, 32, 32)        0         \n",
            "                                                                 \n",
            " max_pooling2d (MaxPooling2D  (None, 16, 16, 32)       0         \n",
            " )                                                               \n",
            "                                                                 \n",
            " dropout (Dropout)           (None, 16, 16, 32)        0         \n",
            "                                                                 \n",
            " conv2d_2 (Conv2D)           (None, 16, 16, 64)        18496     \n",
            "                                                                 \n",
            " leaky_re_lu_1 (LeakyReLU)   (None, 16, 16, 64)        0         \n",
            "                                                                 \n",
            " max_pooling2d_1 (MaxPooling  (None, 8, 8, 64)         0         \n",
            " 2D)                                                             \n",
            "                                                                 \n",
            " dropout_1 (Dropout)         (None, 8, 8, 64)          0         \n",
            "                                                                 \n",
            " flatten (Flatten)           (None, 4096)              0         \n",
            "                                                                 \n",
            " dense (Dense)               (None, 512)               2097664   \n",
            "                                                                 \n",
            " leaky_re_lu_2 (LeakyReLU)   (None, 512)               0         \n",
            "                                                                 \n",
            " dense_1 (Dense)             (None, 10)                5130      \n",
            "                                                                 \n",
            "=================================================================\n",
            "Total params: 2,122,186\n",
            "Trainable params: 2,122,186\n",
            "Non-trainable params: 0\n",
            "_________________________________________________________________\n",
            "Epoch 1/20\n",
            "782/782 [==============================] - 12s 5ms/step - loss: 1.4602 - accuracy: 0.4760\n",
            "Epoch 2/20\n",
            "782/782 [==============================] - 4s 5ms/step - loss: 1.0445 - accuracy: 0.6286\n",
            "Epoch 3/20\n",
            "782/782 [==============================] - 4s 5ms/step - loss: 0.8863 - accuracy: 0.6876\n",
            "Epoch 4/20\n",
            "782/782 [==============================] - 4s 5ms/step - loss: 0.7653 - accuracy: 0.7303\n",
            "Epoch 5/20\n",
            "782/782 [==============================] - 4s 5ms/step - loss: 0.6625 - accuracy: 0.7673\n",
            "Epoch 6/20\n",
            "782/782 [==============================] - 4s 5ms/step - loss: 0.5745 - accuracy: 0.7977\n",
            "Epoch 7/20\n",
            "782/782 [==============================] - 4s 5ms/step - loss: 0.4920 - accuracy: 0.8267\n",
            "Epoch 8/20\n",
            "782/782 [==============================] - 4s 5ms/step - loss: 0.4208 - accuracy: 0.8514\n",
            "Epoch 9/20\n",
            "782/782 [==============================] - 5s 6ms/step - loss: 0.3552 - accuracy: 0.8744\n",
            "Epoch 10/20\n",
            "782/782 [==============================] - 4s 5ms/step - loss: 0.3115 - accuracy: 0.8897\n",
            "Epoch 11/20\n",
            "782/782 [==============================] - 4s 5ms/step - loss: 0.2597 - accuracy: 0.9060\n",
            "Epoch 12/20\n",
            "782/782 [==============================] - 4s 5ms/step - loss: 0.2341 - accuracy: 0.9173\n",
            "Epoch 13/20\n",
            "782/782 [==============================] - 4s 5ms/step - loss: 0.2144 - accuracy: 0.9232\n",
            "Epoch 14/20\n",
            "782/782 [==============================] - 4s 6ms/step - loss: 0.1905 - accuracy: 0.9322\n",
            "Epoch 15/20\n",
            "782/782 [==============================] - 4s 5ms/step - loss: 0.1775 - accuracy: 0.9382\n",
            "Epoch 16/20\n",
            "782/782 [==============================] - 4s 5ms/step - loss: 0.1598 - accuracy: 0.9430\n",
            "Epoch 17/20\n",
            "782/782 [==============================] - 4s 5ms/step - loss: 0.1505 - accuracy: 0.9481\n",
            "Epoch 18/20\n",
            "782/782 [==============================] - 4s 5ms/step - loss: 0.1467 - accuracy: 0.9491\n",
            "Epoch 19/20\n",
            "782/782 [==============================] - 4s 5ms/step - loss: 0.1326 - accuracy: 0.9542\n",
            "Epoch 20/20\n",
            "782/782 [==============================] - 4s 5ms/step - loss: 0.1306 - accuracy: 0.9548\n"
          ]
        }
      ]
    },
    {
      "cell_type": "code",
      "source": [
        "model.save('/content/drive/MyDrive/Train model/cifar10_CNN.h5')"
      ],
      "metadata": {
        "id": "iTmA6o-cP8N3"
      },
      "execution_count": 6,
      "outputs": []
    },
    {
      "cell_type": "code",
      "source": [
        "import matplotlib.pyplot as plt\n",
        "from keras.utils.image_utils import img_to_array\n",
        "from keras.utils import load_img\n",
        "import numpy as np\n",
        "img = load_img('/content/cano.jpg', target_size=(32,32))\n",
        "plt.imshow(img)\n",
        "img = img_to_array(img)\n",
        "#img = img[:,:,0]\n",
        "img = img.reshape(1,32,32,3)\n",
        "img = img.astype('float32')/255\n",
        "np.argmax(model.predict(img),axis=-1)"
      ],
      "metadata": {
        "colab": {
          "base_uri": "https://localhost:8080/",
          "height": 465
        },
        "id": "pzkqu7sFPf9h",
        "outputId": "05c73ef2-5f16-4911-e815-35cefb0fe4d8"
      },
      "execution_count": 10,
      "outputs": [
        {
          "output_type": "stream",
          "name": "stdout",
          "text": [
            "1/1 [==============================] - 0s 17ms/step\n"
          ]
        },
        {
          "output_type": "execute_result",
          "data": {
            "text/plain": [
              "array([8])"
            ]
          },
          "metadata": {},
          "execution_count": 10
        },
        {
          "output_type": "display_data",
          "data": {
            "text/plain": [
              "<Figure size 640x480 with 1 Axes>"
            ],
            "image/png": "[encoded data removed]"
          },
          "metadata": {}
        }
      ]
    },
    {
      "cell_type": "code",
      "source": [],
      "metadata": {
        "id": "rEOnRK2CQ2Ey"
      },
      "execution_count": null,
      "outputs": []
    }
  ]
}
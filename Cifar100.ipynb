{
  "nbformat": 4,
  "nbformat_minor": 0,
  "metadata": {
    "colab": {
      "provenance": [],
      "authorship_tag": "ABX9TyOzu+RPQ1fM2G5J6jFAa1NX",
      "include_colab_link": true
    },
    "kernelspec": {
      "name": "python3",
      "display_name": "Python 3"
    },
    "language_info": {
      "name": "python"
    },
    "accelerator": "GPU",
    "gpuClass": "standard"
  },
  "cells": [
    {
      "cell_type": "markdown",
      "metadata": {
        "id": "view-in-github",
        "colab_type": "text"
      },
      "source": [
        "<a href=\"https://colab.research.google.com/github/TranTan1306/BaiTapAI/blob/main/Cifar100.ipynb\" target=\"_parent\"><img src=\"https://colab.research.google.com/assets/colab-badge.svg\" alt=\"Open In Colab\"/></a>"
      ]
    },
    {
      "cell_type": "code",
      "source": [
        "from keras.datasets import cifar100\n",
        "(x_train, y_train), (x_test, y_test) = cifar100.load_data()\n",
        "from keras.models import Sequential\n",
        "from keras.layers import Dense\n",
        "from keras.utils import to_categorical\n",
        "\n",
        "model = Sequential()\n",
        "model.add(Dense(50000, activation='relu', input_shape=(32*32*3,)))\n",
        "model.add(Dense(3000, activation='relu'))\n",
        "model.add(Dense(1000, activation='relu'))\n",
        "model.add(Dense(100, activation='softmax'))\n",
        "print(model.summary())\n",
        "\n",
        "x_train = x_train.reshape(50000, 32*32*3)\n",
        "x_train = x_train.astype('float32')/255\n",
        "x_test = x_test.reshape(10000, 32*32*3)\n",
        "x_test = x_test.astype('float32')/255\n",
        "\n",
        "y_train = to_categorical(y_train,100)\n",
        "y_test = to_categorical(y_test,100)\n",
        "model.compile(optimizer='rmsprop', loss='categorical_crossentropy', metrics=['accuracy'])\n",
        "model.fit(x_train, y_train, epochs=10, batch_size=128)\n",
        "test_loss, test_acc = model.evaluate(x_test, y_test)\n",
        "print('Mat mat:', test_loss)\n",
        "print('Do chinh xac:', test_acc)"
      ],
      "metadata": {
        "colab": {
          "base_uri": "https://localhost:8080/"
        },
        "id": "udkuP9QgaZY0",
        "outputId": "74bc199d-dad3-413d-dfbc-d11eda591dbd"
      },
      "execution_count": null,
      "outputs": [
        {
          "output_type": "stream",
          "name": "stdout",
          "text": [
            "Model: \"sequential_1\"\n",
            "_________________________________________________________________\n",
            " Layer (type)                Output Shape              Param #   \n",
            "=================================================================\n",
            " dense_4 (Dense)             (None, 50000)             153650000 \n",
            "                                                                 \n",
            " dense_5 (Dense)             (None, 3000)              150003000 \n",
            "                                                                 \n",
            " dense_6 (Dense)             (None, 1000)              3001000   \n",
            "                                                                 \n",
            " dense_7 (Dense)             (None, 100)               100100    \n",
            "                                                                 \n",
            "=================================================================\n",
            "Total params: 306,754,100\n",
            "Trainable params: 306,754,100\n",
            "Non-trainable params: 0\n",
            "_________________________________________________________________\n",
            "None\n",
            "Epoch 1/10\n",
            "391/391 [==============================] - 30s 73ms/step - loss: 5.1006 - accuracy: 0.0460\n",
            "Epoch 2/10\n",
            "391/391 [==============================] - 28s 73ms/step - loss: 3.9301 - accuracy: 0.0936\n",
            "Epoch 3/10\n",
            "391/391 [==============================] - 28s 72ms/step - loss: 3.7090 - accuracy: 0.1300\n",
            "Epoch 4/10\n",
            "391/391 [==============================] - 28s 72ms/step - loss: 3.5618 - accuracy: 0.1560\n",
            "Epoch 5/10\n",
            "391/391 [==============================] - 28s 72ms/step - loss: 3.4510 - accuracy: 0.1767\n",
            "Epoch 6/10\n",
            "391/391 [==============================] - 28s 72ms/step - loss: 3.3487 - accuracy: 0.1934\n",
            "Epoch 7/10\n",
            "391/391 [==============================] - 28s 72ms/step - loss: 3.2534 - accuracy: 0.2097\n",
            "Epoch 8/10\n",
            "391/391 [==============================] - 28s 71ms/step - loss: 3.1653 - accuracy: 0.2284\n",
            "Epoch 9/10\n",
            "391/391 [==============================] - 28s 71ms/step - loss: 3.0804 - accuracy: 0.2456\n",
            "Epoch 10/10\n",
            "391/391 [==============================] - 28s 71ms/step - loss: 2.9897 - accuracy: 0.2557\n",
            "313/313 [==============================] - 3s 9ms/step - loss: 3.3500 - accuracy: 0.2143\n",
            "Mat mat: 3.3499550819396973\n",
            "Do chinh xac: 0.2143000066280365\n"
          ]
        }
      ]
    },
    {
      "cell_type": "code",
      "source": [
        "from keras.utils.image_utils import img_to_array\n",
        "from keras.utils import load_img\n",
        "import matplotlib.pyplot as plt\n",
        "import numpy as np\n",
        "img = load_img ('tiger.jpg',target_size=(32,32))\n",
        "plt.imshow(img)\n",
        "img = img_to_array(img)\n",
        "img = img.reshape (1,32*32*3)\n",
        "img = img.astype('float32')\n",
        "img = img/255\n",
        "np.argmax(model.predict(img),axis=-1)"
      ],
      "metadata": {
        "id": "3Enb0QL1elrc",
        "colab": {
          "base_uri": "https://localhost:8080/",
          "height": 465
        },
        "outputId": "59864f36-0f77-4839-a996-75f588e58527"
      },
      "execution_count": null,
      "outputs": [
        {
          "output_type": "stream",
          "name": "stdout",
          "text": [
            "1/1 [==============================] - 0s 191ms/step\n"
          ]
        },
        {
          "output_type": "execute_result",
          "data": {
            "text/plain": [
              "array([5])"
            ]
          },
          "metadata": {},
          "execution_count": 4
        },
        {
          "output_type": "display_data",
          "data": {
            "text/plain": [
              "<Figure size 640x480 with 1 Axes>"
            ],
            "image/png": "[encoded data removed]"
          },
          "metadata": {}
        }
      ]
    },
    {
      "cell_type": "code",
      "source": [],
      "metadata": {
        "id": "R-Iay4vzvjnR"
      },
      "execution_count": null,
      "outputs": []
    }
  ]
}